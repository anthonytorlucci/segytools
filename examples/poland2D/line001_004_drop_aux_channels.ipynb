{
 "cells": [
  {
   "attachments": {},
   "cell_type": "markdown",
   "metadata": {},
   "source": [
    "# Poland 2D Line 001 drop auxiliary channels\n",
    "This example segy file has auxiliary channels, i.e. traces that do not map to the field acquisition geometry, but intended for other purposes. To drop those traces, this example creates a new bytearray object and assigns byte data if the trace number within ensemble (often referred to as \"channel\") is greater than zero. The aux channels in this segy file have a value of -1.\n",
    "\n",
    "This example uses the open source 2D land vibroseis line from [SEG Wiki](https://wiki.seg.org/wiki/2D_Vibroseis_Line_001)."
   ]
  },
  {
   "cell_type": "code",
   "execution_count": 1,
   "metadata": {},
   "outputs": [
    {
     "name": "stdout",
     "output_type": "stream",
     "text": [
      "reading Line_001.sgy\n",
      "segy file size 445100896\n"
     ]
    }
   ],
   "source": [
    "import os\n",
    "import io\n",
    "import pathlib\n",
    "from poland2d_context import segytools\n",
    "\n",
    "TEXTENCODE = 'ebcdic'\n",
    "BYTEORDER = '>'\n",
    "\n",
    "def drop_aux_channels(input_segy_file:str, output_segy_context_manager:io.BufferedReader):\n",
    "    path_segy_file = pathlib.Path(str(input_segy_file))\n",
    "    assert (path_segy_file.is_file())\n",
    "    print(f\"reading {path_segy_file.name}\")\n",
    "\n",
    "    segy_file_size = os.path.getsize(input_segy_file)\n",
    "    print(f\"segy file size {segy_file_size}\")\n",
    "    \n",
    "    file_header_input = segytools.SegyFileHeaderRev2(segy_logger=None)\n",
    "    trace_header_input = segytools.SegyTraceHeaderRev2(segy_logger=None)\n",
    "    \n",
    "    # 'rb' is \"read bytes\"\n",
    "    with open(path_segy_file, 'rb') as fobj:\n",
    "        # read the first 3200 bytes.\n",
    "        # This will always be 3200 byte textual file header\n",
    "        b_text_header = fobj.read(3200)\n",
    "        \n",
    "        b_file_header = fobj.read(file_header_input.byte_length)\n",
    "        file_header_input.set_header_values(buf=b_file_header, byteorder=BYTEORDER)\n",
    "        \n",
    "        sample_size_in_bytes = file_header_input.sample_format_size_in_bytes()\n",
    "        trc_data_length_in_bytes = file_header_input.num_samples_per_trace.value * sample_size_in_bytes\n",
    "    \n",
    "        output_segy_context_manager.write(b_text_header)\n",
    "        output_segy_context_manager.write(b_file_header)\n",
    "        \n",
    "        # Loop through traces ...\n",
    "        while fobj.tell() < segy_file_size:\n",
    "            # TRACE HEADER\n",
    "            b_trace_header = fobj.read(trace_header_input.byte_length)\n",
    "            trace_header_input.set_header_values(buf=b_trace_header, byteorder=BYTEORDER)\n",
    "            if trace_header_input.num_samples.value != file_header_input.num_samples_per_trace.value:\n",
    "                trc_data_length_in_bytes = file_header_input.num_samples_per_trace.value * sample_size_in_bytes\n",
    "            # TRACE DATA\n",
    "            b_trace_data = fobj.read(trc_data_length_in_bytes)\n",
    "            # In this example segy file, all 'live' traces have the field \n",
    "            # 'trc_num_within_field_record' values greater than zero\n",
    "            if trace_header_input.trc_num_within_field_record.value > 0:\n",
    "                output_segy_context_manager.write(b_trace_header)\n",
    "                output_segy_context_manager.write(b_trace_data)\n",
    "\n",
    "        fobj.close()\n",
    "\n",
    "\n",
    "path_segy_file_in = pathlib.Path.cwd().joinpath(\"data\", \"Line_001.sgy\")\n",
    "path_segy_file_out = pathlib.Path.cwd().joinpath(\"data\", \"Line_001_NO_AUX.sgy\")\n",
    "with open(path_segy_file_out, 'ab') as fout:\n",
    "    drop_aux_channels(input_segy_file=str(path_segy_file_in), output_segy_context_manager=fout)\n",
    "    fout.close()\n",
    "  "
   ]
  }
 ],
 "metadata": {
  "kernelspec": {
   "display_name": "segytools310",
   "language": "python",
   "name": "python3"
  },
  "language_info": {
   "codemirror_mode": {
    "name": "ipython",
    "version": 3
   },
   "file_extension": ".py",
   "mimetype": "text/x-python",
   "name": "python",
   "nbconvert_exporter": "python",
   "pygments_lexer": "ipython3",
   "version": "3.10.8"
  },
  "orig_nbformat": 4,
  "vscode": {
   "interpreter": {
    "hash": "1e86936fd5e4ab035e5a71c3b0d0b69339fc46c8111571ad033ddfecf81380db"
   }
  }
 },
 "nbformat": 4,
 "nbformat_minor": 2
}
