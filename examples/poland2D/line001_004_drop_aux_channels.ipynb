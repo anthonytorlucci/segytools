{
 "cells": [
  {
   "attachments": {},
   "cell_type": "markdown",
   "metadata": {},
   "source": [
    "# Poland 2D Line 001 drop auxiliary channels\n",
    "This example segy file has auxiliary channels, i.e. traces that do not map to the field acquisition geometry, but intended for other purposes. To drop those traces, this example creates a new bytearray object and assigns byte data if the trace number within ensemble (often referred to as \"channel\") is greater than zero. The aux channels in this segy file have a value of -1.\n",
    "\n",
    "This example uses the open source 2D land vibroseis line from [SEG Wiki](https://wiki.seg.org/wiki/2D_Vibroseis_Line_001)."
   ]
  },
  {
   "cell_type": "code",
   "execution_count": 1,
   "metadata": {},
   "outputs": [],
   "source": [
    "import os\n",
    "from pathlib import Path\n",
    "from poland2d_context import segytools\n",
    "\n",
    "TEXTENCODE = 'ebcdic'\n",
    "BYTEORDER = '>'\n",
    "TEXTHEADERLENGTH = 3200\n",
    "FILEHEADERLENGTH = 400\n",
    "TRCHEADERLENGTH = 240\n",
    "\n",
    "segyfile = \"data/Line_001.sgy\"\n",
    "pathsegyfile = Path(str(segyfile))\n",
    "assert (pathsegyfile.is_file())\n",
    "\n",
    "segyfilesize = os.path.getsize(segyfile)\n",
    "\n",
    "# Initialize an empty bytearray that is the same size as the input segy file.\n",
    "# This is only possible with small files where segyfilesize < available memory.\n",
    "b_sgy_arr = bytearray(segyfilesize)\n",
    "\n",
    "file_header = segytools.SegyFileHeaderRev2()\n",
    "trace_header = segytools.SegyTraceHeaderRev2()\n",
    "\n",
    "# 'rb' is \"read bytes\"\n",
    "with open(segyfile, 'rb') as fobj:\n",
    "    # read the first 3200 bytes.\n",
    "    # This will always be 3200 byte textual file header\n",
    "    b_text_header = fobj.read(TEXTHEADERLENGTH)\n",
    "    b_sgy_arr[0:TEXTHEADERLENGTH] = b_text_header\n",
    "    last_byte = fobj.tell()\n",
    "\n",
    "    b_file_header = fobj.read(FILEHEADERLENGTH)\n",
    "    file_header.set_header_values(buf=b_file_header, byteorder=BYTEORDER)\n",
    "    # modify file header here ...\n",
    "    b_sgy_arr[last_byte:last_byte+FILEHEADERLENGTH] = file_header.to_bytes(byteorder=BYTEORDER)\n",
    "    last_byte = fobj.tell()\n",
    "    \n",
    "    sample_size_in_bytes = file_header.sample_format_size_in_bytes()\n",
    "    trc_data_length_in_bytes = file_header.num_samples_per_trace.value * sample_size_in_bytes\n",
    "    \n",
    "    # Loop through traces ...\n",
    "    while fobj.tell() < segyfilesize:\n",
    "        # TRACE HEADER\n",
    "        b_trace_header = fobj.read(TRCHEADERLENGTH)\n",
    "        trace_header.set_header_values(buf=b_trace_header, byteorder=BYTEORDER)\n",
    "        if trace_header.num_samples.value != file_header.num_samples_per_trace.value:\n",
    "            trc_data_length_in_bytes = file_header.num_samples_per_trace.value * sample_size_in_bytes\n",
    "        # write trace header to bytearray `b_sgy_arr`\n",
    "        if trace_header.trc_num_within_field_record.value > 0:\n",
    "            b_sgy_arr[last_byte:last_byte+TRCHEADERLENGTH] = trace_header.to_bytes(byteorder=BYTEORDER)\n",
    "            last_byte += TRCHEADERLENGTH\n",
    "\n",
    "        # TRACE DATA\n",
    "        b_trace_data = fobj.read(trc_data_length_in_bytes)\n",
    "        if trace_header.trc_num_within_field_record.value > 0:\n",
    "            b_sgy_arr[last_byte:last_byte+trc_data_length_in_bytes] = b_trace_data\n",
    "            last_byte += trc_data_length_in_bytes\n",
    "\n",
    "    fobj.close()\n",
    "\n",
    "# write output segy; use only with small segy files\n",
    "segy_file_out = os.path.join(os.getcwd(), \"data\", \"Line_001_NO_AUX.sgy\")\n",
    "with open(segy_file_out, \"wb\") as fobj2:\n",
    "    bsgyout = bytes(b_sgy_arr[:last_byte])\n",
    "    fobj2.write(bsgyout)\n",
    "    fobj2.close()    "
   ]
  }
 ],
 "metadata": {
  "kernelspec": {
   "display_name": "segytools310",
   "language": "python",
   "name": "python3"
  },
  "language_info": {
   "codemirror_mode": {
    "name": "ipython",
    "version": 3
   },
   "file_extension": ".py",
   "mimetype": "text/x-python",
   "name": "python",
   "nbconvert_exporter": "python",
   "pygments_lexer": "ipython3",
   "version": "3.10.8"
  },
  "orig_nbformat": 4,
  "vscode": {
   "interpreter": {
    "hash": "1e86936fd5e4ab035e5a71c3b0d0b69339fc46c8111571ad033ddfecf81380db"
   }
  }
 },
 "nbformat": 4,
 "nbformat_minor": 2
}
