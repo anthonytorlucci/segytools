{
 "cells": [
  {
   "attachments": {},
   "cell_type": "markdown",
   "metadata": {},
   "source": [
    "# Poland 2D Line 001 File Header\n",
    "Get the file header from a segy file. \n",
    "This example uses the open source 2D land vibroseis line from [SEG Wiki](https://wiki.seg.org/wiki/2D_Vibroseis_Line_001)."
   ]
  },
  {
   "cell_type": "code",
   "execution_count": 1,
   "metadata": {},
   "outputs": [
    {
     "name": "stderr",
     "output_type": "stream",
     "text": [
      "INFO:line001_segy_fileheader:description: job identification number, start byte: 1, byte length: 4, value: 0\n",
      "description: line number, start byte: 5, byte length: 4, value: 0\n",
      "description: reel number, start byte: 9, byte length: 4, value: 0\n",
      "description: number of data traces per ensemble, start byte: 13, byte length: 2, value: -31073\n",
      "description: number of auxiliary traces per ensemble, start byte: 15, byte length: 2, value: 0\n",
      "description: sample interval in microseconds, start byte: 17, byte length: 2, value: 2000\n",
      "description: sample interval in microseconds or original recording, start byte: 19, byte length: 2, value: 2000\n",
      "description: number of samples per data trace, start byte: 21, byte length: 2, value: 1501\n",
      "description: number of samples per data trace or original recording, start byte: 23, byte length: 2, value: 8193\n",
      "description: data sample format code, start byte: 25, byte length: 2, value: 1\n",
      "description: ensemble fold, start byte: 27, byte length: 2, value: 0\n",
      "description: trace sorting code, start byte: 29, byte length: 2, value: 1\n",
      "description: vertical sum code, start byte: 31, byte length: 2, value: 0\n",
      "description: sweep frequency at start, start byte: 33, byte length: 2, value: 0\n",
      "description: sweep frequency at end, start byte: 35, byte length: 2, value: 0\n",
      "description: sweep length, start byte: 37, byte length: 2, value: 0\n",
      "description: sweep type code, start byte: 39, byte length: 2, value: 0\n",
      "description: trace number of sweep channel, start byte: 41, byte length: 2, value: 0\n",
      "description: sweep trace taper length in ms at start, start byte: 43, byte length: 2, value: 0\n",
      "description: sweep trace taper length in ms at end, start byte: 45, byte length: 2, value: 0\n",
      "description: taper type, start byte: 47, byte length: 2, value: 0\n",
      "description: correlated data traces, start byte: 49, byte length: 2, value: 0\n",
      "description: binary gain recovered, start byte: 51, byte length: 2, value: 0\n",
      "description: amplitude recovery method, start byte: 53, byte length: 2, value: 0\n",
      "description: measurement system, start byte: 55, byte length: 2, value: 1\n",
      "description: impulse signal polarity, start byte: 57, byte length: 2, value: 0\n",
      "description: vibratory polarity code, start byte: 59, byte length: 2, value: 0\n",
      "description: segy format revision number, start byte: 301, byte length: 2, value: 0\n",
      "description: fixed length trace flag, start byte: 303, byte length: 2, value: 0\n",
      "description: number of 3200 byte ext file header records following, start byte: 305, byte length: 2, value: 0\n",
      "\n"
     ]
    }
   ],
   "source": [
    "from pathlib import Path\n",
    "import logging\n",
    "from datetime import datetime\n",
    "\n",
    "from poland2d_context import segytools\n",
    "\n",
    "TEXTENCODE = 'ebcdic'\n",
    "ENDIANESS = '>'\n",
    "TEXTHEADERLENGTH = 3200\n",
    "FILEHEADERLENGTH = 400\n",
    "\n",
    "# -- logging\n",
    "logging.basicConfig(level=logging.DEBUG)\n",
    "now = datetime.now() # current date and time\n",
    "\n",
    "logger = logging.getLogger('line001_segy_fileheader')\n",
    "# handler = logging.StreamHandler()\n",
    "# formatter = logging.Formatter('%(asctime)s : %(name)s : %(levelname)s : %(message)s')\n",
    "# handler.setFormatter(formatter)\n",
    "# logger.addHandler(handler)\n",
    "\n",
    "# -- segy read file header\n",
    "segyfile = \"data/Line_001.sgy\"\n",
    "pathsegyfile = Path(str(segyfile))\n",
    "assert (pathsegyfile.is_file())\n",
    "\n",
    "file_header = segytools.SegyFileHeaderRev2(segy_logger=logger)\n",
    "# 'rb' is \"read bytes\"\n",
    "with open(segyfile, 'rb') as fobj:\n",
    "    # read the first 3200 bytes.\n",
    "    # This will always be 3200 byte textual file header\n",
    "    b_text_header = fobj.read(TEXTHEADERLENGTH)\n",
    "\n",
    "    b_file_header = fobj.read(FILEHEADERLENGTH)\n",
    "    file_header.set_header_values(buf=b_file_header, endianess=ENDIANESS)\n",
    "\n",
    "    fobj.close()\n",
    "\n",
    "#---print(file_header)\n",
    "logger.info(file_header)"
   ]
  },
  {
   "cell_type": "code",
   "execution_count": 2,
   "metadata": {},
   "outputs": [
    {
     "name": "stderr",
     "output_type": "stream",
     "text": [
      "INFO:line001_segy_fileheader:number of bytes in each sample of trace data: 4\n"
     ]
    }
   ],
   "source": [
    "sample_byte_size = file_header.sample_format_size_in_bytes()\n",
    "logger.info(f'number of bytes in each sample of trace data: {sample_byte_size}')"
   ]
  }
 ],
 "metadata": {
  "kernelspec": {
   "display_name": "segytools310",
   "language": "python",
   "name": "python3"
  },
  "language_info": {
   "codemirror_mode": {
    "name": "ipython",
    "version": 3
   },
   "file_extension": ".py",
   "mimetype": "text/x-python",
   "name": "python",
   "nbconvert_exporter": "python",
   "pygments_lexer": "ipython3",
   "version": "3.10.8"
  },
  "orig_nbformat": 4,
  "vscode": {
   "interpreter": {
    "hash": "1e86936fd5e4ab035e5a71c3b0d0b69339fc46c8111571ad033ddfecf81380db"
   }
  }
 },
 "nbformat": 4,
 "nbformat_minor": 2
}
