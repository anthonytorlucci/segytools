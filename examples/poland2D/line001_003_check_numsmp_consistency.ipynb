{
 "cells": [
  {
   "attachments": {},
   "cell_type": "markdown",
   "metadata": {},
   "source": [
    "# Poland 2D Line 001 number of samples\n",
    "Compare the number of samples indicated in the file header against the number of samples in each trace to determine if they are consistent. \n",
    "This example uses the open source 2D land vibroseis line from [SEG Wiki](https://wiki.seg.org/wiki/2D_Vibroseis_Line_001)."
   ]
  },
  {
   "cell_type": "code",
   "execution_count": 1,
   "metadata": {},
   "outputs": [
    {
     "name": "stderr",
     "output_type": "stream",
     "text": [
      "INFO:line001_segy_fileheader:number of samples in file header: 1501\n",
      "INFO:line001_segy_fileheader:sample interval (microseconds) in file header: 2000\n",
      "INFO:line001_segy_fileheader:Trace length may not be fixed.\n",
      "INFO:line001_segy_fileheader:number of bytes in each trace: 6004\n"
     ]
    }
   ],
   "source": [
    "import os\n",
    "from pathlib import Path\n",
    "import logging\n",
    "from datetime import datetime\n",
    "from poland2d_context import segytools\n",
    "\n",
    "TEXTENCODE = 'ebcdic'\n",
    "BYTEORDER = '>'\n",
    "\n",
    "# -- logging\n",
    "logging.basicConfig(level=logging.DEBUG)\n",
    "now = datetime.now() # current date and time\n",
    "\n",
    "logger = logging.getLogger(\"line001_segy_fileheader\")\n",
    "# handler = logging.StreamHandler()\n",
    "# formatter = logging.Formatter('%(asctime)s : %(name)s : %(levelname)s : %(message)s')\n",
    "# handler.setFormatter(formatter)\n",
    "# logger.addHandler(handler)\n",
    "\n",
    "segyfile = \"data/Line_001.sgy\"\n",
    "pathsegyfile = Path(str(segyfile))\n",
    "assert (pathsegyfile.is_file())\n",
    "\n",
    "segyfilesize = os.path.getsize(segyfile)\n",
    "\n",
    "file_header = segytools.SegyFileHeaderRev2(segy_logger=logger)\n",
    "trace_header = segytools.SegyTraceHeaderRev2()\n",
    "\n",
    "# 'rb' is \"read bytes\"\n",
    "with open(segyfile, 'rb') as fobj:\n",
    "    # read the first 3200 bytes.\n",
    "    # This will always be 3200 byte textual file header\n",
    "    b_text_header = fobj.read(3200)\n",
    "\n",
    "    b_file_header = fobj.read(file_header.byte_length)\n",
    "    file_header.set_header_values(buf=b_file_header, byteorder=BYTEORDER)\n",
    "    num_samp = file_header.num_samples_per_trace.value\n",
    "    #--print(f'number of samples in file header: {num_samp}')\n",
    "    logger.info(f\"number of samples in file header: {num_samp}\")\n",
    "    smp_int_micros = file_header.sample_interval.value\n",
    "    #--print(f'sample interval (microseconds) in file header: {smp_int_micros}')\n",
    "    logger.info(f\"sample interval (microseconds) in file header: {smp_int_micros}\")\n",
    "    fixed_len_flag = file_header.fixed_length.value\n",
    "    if fixed_len_flag == 1:\n",
    "        #--print('All traces should have the same trace length.')\n",
    "        logger.info(\"All traces should have the same trace length.\")\n",
    "    else:\n",
    "        #--print('Trace length may not be fixed.')\n",
    "        logger.info(\"Trace length may not be fixed.\")\n",
    "\n",
    "    sample_size_in_bytes = file_header.sample_format_size_in_bytes()\n",
    "    trc_data_length_in_bytes = file_header.num_samples_per_trace.value * sample_size_in_bytes\n",
    "    #--print(f'trace data length in bytes: {trc_data_length_in_bytes}')\n",
    "    logger.info(f\"number of bytes in each trace: {trc_data_length_in_bytes}\")\n",
    "\n",
    "    # Loop through traces reading the number of samples and sample interval for each trace.\n",
    "    # Note that if the number of samples changes, the trace data length in bytes will also \n",
    "    # change. This can happen when auxiliary channels are present which are shorter or \n",
    "    # longer than the \"normal\" trace data.\n",
    "    while fobj.tell() < segyfilesize:\n",
    "        b_trace_header = fobj.read(trace_header.byte_length)\n",
    "        trace_header.set_header_values(buf=b_trace_header, byteorder=BYTEORDER)\n",
    "        if trace_header.num_samples.value != file_header.num_samples_per_trace.value:\n",
    "            logger.info(f\"trace header samples {trace_header.num_samples.value} does not match file header samples {file_header.num_samples_per_trace.value}\")\n",
    "            # trc_data_length_in_bytes = file_header.num_samples_per_trace.value * sample_size_in_bytes\n",
    "            break\n",
    "        \n",
    "        b_trace_data = fobj.read(trc_data_length_in_bytes)\n",
    "\n",
    "    fobj.close()"
   ]
  },
  {
   "attachments": {},
   "cell_type": "markdown",
   "metadata": {},
   "source": [
    "The file header indicates that the traces may have different trace lengths. However, after scanning all the traces, this is not true. This is just another example of a segy file that is improperly configured."
   ]
  }
 ],
 "metadata": {
  "kernelspec": {
   "display_name": "segytools310",
   "language": "python",
   "name": "python3"
  },
  "language_info": {
   "codemirror_mode": {
    "name": "ipython",
    "version": 3
   },
   "file_extension": ".py",
   "mimetype": "text/x-python",
   "name": "python",
   "nbconvert_exporter": "python",
   "pygments_lexer": "ipython3",
   "version": "3.10.8"
  },
  "orig_nbformat": 4,
  "vscode": {
   "interpreter": {
    "hash": "1e86936fd5e4ab035e5a71c3b0d0b69339fc46c8111571ad033ddfecf81380db"
   }
  }
 },
 "nbformat": 4,
 "nbformat_minor": 2
}
