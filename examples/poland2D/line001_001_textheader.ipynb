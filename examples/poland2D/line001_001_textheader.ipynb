{
 "cells": [
  {
   "attachments": {},
   "cell_type": "markdown",
   "metadata": {},
   "source": [
    "# Poland 2D Line 001 Text Header\n",
    "Get the text header from a segy file. This example uses the open source 2D land vibroseis line from [SEG Wiki](https://wiki.seg.org/wiki/2D_Vibroseis_Line_001)."
   ]
  },
  {
   "cell_type": "code",
   "execution_count": 1,
   "metadata": {},
   "outputs": [
    {
     "name": "stdout",
     "output_type": "stream",
     "text": [
      "C 1 CLIENT                        COMPANY                       CREW NO\n",
      "C 2 LINE:  LINE_001           AREA                        MAP ID\n",
      "C 3 REEL NO           DAY-START OF REEL     YEAR      OBSERVER\n",
      "C 4 INSTRUMENT: MFG            MODEL            SERIAL NO\n",
      "C 5 DATA TRACES/RECORD: 282  AUXILIARY TRACES/RECORD:  2    CDP FOLD\n",
      "C 6 SAMPLE INTERNAL:  4MS     SAMPLES/TRACE: 750  BITS/IN      BYTES/SAMPLE 4\n",
      "C 7 RECORDING FORMAT        FORMAT THIS REEL: SEGY   MEASUREMENT SYSTEM\n",
      "C 8 SAMPLE CODE: FLOATING PT     FIXED PT     FIXED PT-GAIN     CORRELATED\n",
      "C 9 GAIN  TYPE: FIXED     BINARY     FLOATING POINT     OTHER\n",
      "C10 FILTERS: ALIAS     HZ  NOTCH     HZ  BAND    -     HZ  SLOPE    -    DB/OCT\n",
      "C11 SOURCE: TYPE            NUMBER/POINT        POINT INTERVAL\n",
      "C12     PATTERN:                           LENGTH        WIDTH\n",
      "C13 SWEEP: START     HZ  END     HZ  LENGTH      MS  CHANNEL NO     TYPE\n",
      "C14 TAPER: START LENGTH       MS  END LENGTH       MS  TYPE\n",
      "C15 SPREAD: OFFSET        MAX DISTANCE        GROUP INTERVAL\n",
      "C16 GEOPHONES: PER GROUP     SPACING     FREQUENCY     MFG          MODEL\n",
      "C17     PATTERN:                           LENGTH        WIDTH\n",
      "C18 TRACES SORTED BY: RECORD     CDP     OTHER\n",
      "C19 AMPLITUDE RECOVEY: NONE      SPHERICAL DIV       AGC    OTHER\n",
      "C20 MAP PROJECTION                      ZONE ID       COORDINATE UNITS\n",
      "C21 PROCESSING:\n",
      "C22 PROCESSING:\n",
      "C23\n",
      "C24\n",
      "C25\n",
      "C26\n",
      "C27\n",
      "C28\n",
      "C29\n",
      "C30\n",
      "C31\n",
      "C32\n",
      "C33\n",
      "C34\n",
      "C35\n",
      "C36\n",
      "C37\n",
      "C38\n",
      "C39\n",
      "C40 END EBCDIC\n"
     ]
    }
   ],
   "source": [
    "from pathlib import Path\n",
    "from poland2d_context import segytools\n",
    "\n",
    "import segytools.toolkit\n",
    "\n",
    "TEXTENCODE = 'ebcdic'\n",
    "\n",
    "segyfile = \"data/Line_001.sgy\"\n",
    "pathsegyfile = Path(str(segyfile))\n",
    "assert (pathsegyfile.is_file())\n",
    "\n",
    "# 'rb' is \"read bytes\"\n",
    "with open(segyfile, 'rb') as fobj:\n",
    "    # read the first 3200 bytes.\n",
    "    # This will always be 3200 byte textual file header\n",
    "    b_text_header = fobj.read(3200)\n",
    "    # print(type(b_text_header))\n",
    "\n",
    "    textheader = str()\n",
    "    if TEXTENCODE == 'ebcdic':\n",
    "        textheader = b_text_header.decode(encoding='cp500')\n",
    "    elif TEXTENCODE == 'ascii':\n",
    "        textheader = b_text_header.decode(encoding='utf-8')\n",
    "\n",
    "    fobj.close()\n",
    "\n",
    "\n",
    "print(segytools.toolkit.format_textheader_string(textheader=textheader))"
   ]
  }
 ],
 "metadata": {
  "kernelspec": {
   "display_name": "segytools310",
   "language": "python",
   "name": "python3"
  },
  "language_info": {
   "codemirror_mode": {
    "name": "ipython",
    "version": 3
   },
   "file_extension": ".py",
   "mimetype": "text/x-python",
   "name": "python",
   "nbconvert_exporter": "python",
   "pygments_lexer": "ipython3",
   "version": "3.10.8 (main, Nov 24 2022, 14:13:03) [GCC 11.2.0]"
  },
  "orig_nbformat": 4,
  "vscode": {
   "interpreter": {
    "hash": "1e86936fd5e4ab035e5a71c3b0d0b69339fc46c8111571ad033ddfecf81380db"
   }
  }
 },
 "nbformat": 4,
 "nbformat_minor": 2
}
